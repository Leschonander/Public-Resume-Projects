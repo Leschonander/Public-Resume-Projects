{
 "cells": [
  {
   "cell_type": "code",
   "execution_count": 1,
   "metadata": {},
   "outputs": [],
   "source": [
    "riksdag <- read.csv(\"riksdag.csv\")\n",
    "library(ggplot2)\n",
    "library(ggrepel)\n",
    "library(ggparliament)"
   ]
  },
  {
   "cell_type": "code",
   "execution_count": 2,
   "metadata": {},
   "outputs": [
    {
     "data": {
      "text/html": [
       "<table>\n",
       "<thead><tr><th scope=col>Year</th><th scope=col>SocialDemocraticParty</th><th scope=col>ModerateParty</th><th scope=col>SwedenDemocrats</th><th scope=col>GreenParty</th><th scope=col>CenterParty</th><th scope=col>LeftParty</th><th scope=col>LiberialParty</th><th scope=col>ChristianDemocraticParty</th><th scope=col>FeministInitiativeParty</th><th scope=col>Others</th></tr></thead>\n",
       "<tbody>\n",
       "\t<tr><td>2006</td><td>130 </td><td> 97 </td><td> 0  </td><td>19  </td><td>29  </td><td>22  </td><td>28  </td><td>24  </td><td>0   </td><td>0   </td></tr>\n",
       "\t<tr><td>2010</td><td>112 </td><td>117 </td><td>20  </td><td>26  </td><td>23  </td><td>19  </td><td>25  </td><td>19  </td><td>0   </td><td>0   </td></tr>\n",
       "\t<tr><td>2014</td><td>113 </td><td> 84 </td><td>49  </td><td>25  </td><td>22  </td><td>21  </td><td>19  </td><td>16  </td><td>0   </td><td>0   </td></tr>\n",
       "\t<tr><td>2018</td><td>101 </td><td> 70 </td><td>62  </td><td>15  </td><td>31  </td><td>28  </td><td>19  </td><td>23  </td><td>0   </td><td>0   </td></tr>\n",
       "</tbody>\n",
       "</table>\n"
      ],
      "text/latex": [
       "\\begin{tabular}{r|lllllllllll}\n",
       " Year & SocialDemocraticParty & ModerateParty & SwedenDemocrats & GreenParty & CenterParty & LeftParty & LiberialParty & ChristianDemocraticParty & FeministInitiativeParty & Others\\\\\n",
       "\\hline\n",
       "\t 2006 & 130  &  97  &  0   & 19   & 29   & 22   & 28   & 24   & 0    & 0   \\\\\n",
       "\t 2010 & 112  & 117  & 20   & 26   & 23   & 19   & 25   & 19   & 0    & 0   \\\\\n",
       "\t 2014 & 113  &  84  & 49   & 25   & 22   & 21   & 19   & 16   & 0    & 0   \\\\\n",
       "\t 2018 & 101  &  70  & 62   & 15   & 31   & 28   & 19   & 23   & 0    & 0   \\\\\n",
       "\\end{tabular}\n"
      ],
      "text/markdown": [
       "\n",
       "Year | SocialDemocraticParty | ModerateParty | SwedenDemocrats | GreenParty | CenterParty | LeftParty | LiberialParty | ChristianDemocraticParty | FeministInitiativeParty | Others | \n",
       "|---|---|---|---|\n",
       "| 2006 | 130  |  97  |  0   | 19   | 29   | 22   | 28   | 24   | 0    | 0    | \n",
       "| 2010 | 112  | 117  | 20   | 26   | 23   | 19   | 25   | 19   | 0    | 0    | \n",
       "| 2014 | 113  |  84  | 49   | 25   | 22   | 21   | 19   | 16   | 0    | 0    | \n",
       "| 2018 | 101  |  70  | 62   | 15   | 31   | 28   | 19   | 23   | 0    | 0    | \n",
       "\n",
       "\n"
      ],
      "text/plain": [
       "  Year SocialDemocraticParty ModerateParty SwedenDemocrats GreenParty\n",
       "1 2006 130                    97            0              19        \n",
       "2 2010 112                   117           20              26        \n",
       "3 2014 113                    84           49              25        \n",
       "4 2018 101                    70           62              15        \n",
       "  CenterParty LeftParty LiberialParty ChristianDemocraticParty\n",
       "1 29          22        28            24                      \n",
       "2 23          19        25            19                      \n",
       "3 22          21        19            16                      \n",
       "4 31          28        19            23                      \n",
       "  FeministInitiativeParty Others\n",
       "1 0                       0     \n",
       "2 0                       0     \n",
       "3 0                       0     \n",
       "4 0                       0     "
      ]
     },
     "metadata": {},
     "output_type": "display_data"
    }
   ],
   "source": [
    "riksdag <- read.csv(\"riksdag.csv\")\n",
    "riksdag"
   ]
  },
  {
   "cell_type": "code",
   "execution_count": 3,
   "metadata": {},
   "outputs": [
    {
     "data": {},
     "metadata": {},
     "output_type": "display_data"
    },
    {
     "data": {
      "image/png": "[encoded data removed]",
      "text/plain": [
       "plot without title"
      ]
     },
     "metadata": {},
     "output_type": "display_data"
    }
   ],
   "source": [
    "#Linechart\n",
    "ggplot(riksdag, aes(Year)) +\n",
    "    geom_line(aes(y = SocialDemocraticParty, colour = \"Social Democratic Party\"),size=1) +\n",
    "    geom_line(aes(y = ModerateParty, colour = \"Moderate Party\"),size=1) +\n",
    "    geom_line(aes(y = SwedenDemocrats, colour = \"Sweden Democrats\"),size=1) +\n",
    "    geom_line(aes(y = GreenParty, colour = \"Green Party\"),size=1) +\n",
    "    geom_line(aes(y = CenterParty, colour = \"Center Party\"),size=1) + \n",
    "    geom_line(aes(y = LeftParty, colour = \"Left Party\"),size=1) +\n",
    "    geom_line(aes(y = LiberialParty, colour = \"Liberial Party\"),size=1) +\n",
    "    geom_line(aes(y = ChristianDemocraticParty, colour = \"Christian Democratic Party\"),size=1) + \n",
    "    labs(title = \"Riksdag Seats from 2006 to 2018\") +\n",
    "    ylab(\"Seats\") +\n",
    "    theme_bw() +\n",
    "    coord_fixed(ratio = 0.05) +\n",
    "    scale_color_discrete(name=\"Party\") +\n",
    "    theme(axis.text.x=element_text(size=10),                            \n",
    "        axis.text.y=element_text(size=10),\n",
    "        axis.title.x=element_text(size=12, face=\"plain\"),             \n",
    "        axis.title.y=element_text(size=12, face=\"plain\"))"
   ]
  },
  {
   "cell_type": "code",
   "execution_count": 32,
   "metadata": {},
   "outputs": [
    {
     "data": {
      "text/html": [
       "<table>\n",
       "<thead><tr><th></th><th scope=col>Year</th><th scope=col>SocialDemocraticParty</th><th scope=col>ModerateParty</th><th scope=col>SwedenDemocrats</th><th scope=col>GreenParty</th><th scope=col>CenterParty</th><th scope=col>LeftParty</th><th scope=col>LiberialParty</th><th scope=col>ChristianDemocraticParty</th><th scope=col>FeministInitiativeParty</th><th scope=col>Others</th></tr></thead>\n",
       "<tbody>\n",
       "\t<tr><th scope=row>4</th><td>2018</td><td>101 </td><td>70  </td><td>62  </td><td>15  </td><td>31  </td><td>28  </td><td>19  </td><td>23  </td><td>0   </td><td>0   </td></tr>\n",
       "</tbody>\n",
       "</table>\n"
      ],
      "text/latex": [
       "\\begin{tabular}{r|lllllllllll}\n",
       "  & Year & SocialDemocraticParty & ModerateParty & SwedenDemocrats & GreenParty & CenterParty & LeftParty & LiberialParty & ChristianDemocraticParty & FeministInitiativeParty & Others\\\\\n",
       "\\hline\n",
       "\t4 & 2018 & 101  & 70   & 62   & 15   & 31   & 28   & 19   & 23   & 0    & 0   \\\\\n",
       "\\end{tabular}\n"
      ],
      "text/markdown": [
       "\n",
       "| <!--/--> | Year | SocialDemocraticParty | ModerateParty | SwedenDemocrats | GreenParty | CenterParty | LeftParty | LiberialParty | ChristianDemocraticParty | FeministInitiativeParty | Others | \n",
       "|---|\n",
       "| 4 | 2018 | 101  | 70   | 62   | 15   | 31   | 28   | 19   | 23   | 0    | 0    | \n",
       "\n",
       "\n"
      ],
      "text/plain": [
       "  Year SocialDemocraticParty ModerateParty SwedenDemocrats GreenParty\n",
       "4 2018 101                   70            62              15        \n",
       "  CenterParty LeftParty LiberialParty ChristianDemocraticParty\n",
       "4 31          28        19            23                      \n",
       "  FeministInitiativeParty Others\n",
       "4 0                       0     "
      ]
     },
     "metadata": {},
     "output_type": "display_data"
    }
   ],
   "source": [
    "RikFour <- riksdag[4,]\n",
    "RikFour"
   ]
  },
  {
   "cell_type": "code",
   "execution_count": 54,
   "metadata": {},
   "outputs": [
    {
     "data": {},
     "metadata": {},
     "output_type": "display_data"
    },
    {
     "data": {
      "image/png": "[encoded data removed]",
      "text/plain": [
       "plot without title"
      ]
     },
     "metadata": {},
     "output_type": "display_data"
    }
   ],
   "source": [
    "#Barplot\n",
    "dat1 <- data.frame(\n",
    "    party = factor(c(\"Social Democratic Party\",\"Social Democratic Party\",\n",
    "                     \"Sweden Democrats\",\"Sweden Democrats\",\n",
    "                     \"Moderate Party\", \"Moderate Party\")),\n",
    "    year = factor(c(\"2014\",\"2018\",\"2014\",\"2018\", \"2014\", \"2018\"), levels=c(\"2014\",\"2018\")),\n",
    "    seats = c(113, 101, 49, 62, 84, 70)\n",
    ")\n",
    "ggplot(data=dat1, aes(x=year, y=seats, fill=party)) +\n",
    "    geom_bar(stat=\"identity\", position=position_dodge()) +\n",
    "    theme_bw() +\n",
    "    coord_fixed(ratio = 0.01) +\n",
    "    labs(title = \"Change in Riksdag Seats\") +\n",
    "    ylab(\"Seats\")  +\n",
    "    xlab(\"Year\") +\n",
    "    geom_text(aes(label = seats, y = seats), size = 3) + \n",
    "    theme(axis.text.x=element_text(size=10),                            \n",
    "        axis.text.y=element_text(size=10),\n",
    "        axis.title.x=element_text(size=12, face=\"plain\"),             \n",
    "        axis.title.y=element_text(size=12, face=\"plain\")) +\n",
    "  scale_y_continuous(limits = c(0,120), expand = c(0, 0))"
   ]
  },
  {
   "cell_type": "code",
   "execution_count": null,
   "metadata": {},
   "outputs": [],
   "source": []
  },
  {
   "cell_type": "code",
   "execution_count": null,
   "metadata": {},
   "outputs": [],
   "source": []
  }
 ],
 "metadata": {
  "kernelspec": {
   "display_name": "R",
   "language": "R",
   "name": "ir"
  },
  "language_info": {
   "codemirror_mode": "r",
   "file_extension": ".r",
   "mimetype": "text/x-r-source",
   "name": "R",
   "pygments_lexer": "r",
   "version": "3.5.1"
  }
 },
 "nbformat": 4,
 "nbformat_minor": 2
}
